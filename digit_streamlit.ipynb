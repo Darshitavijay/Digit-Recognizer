{
  "nbformat": 4,
  "nbformat_minor": 0,
  "metadata": {
    "colab": {
      "provenance": [],
      "mount_file_id": "1Hgyfr56cbZoUJr50WdBbLUcypK3FgS1P",
      "authorship_tag": "ABX9TyPFdbF1tXsLhUXR8hrVyblJ",
      "include_colab_link": true
    },
    "kernelspec": {
      "name": "python3",
      "display_name": "Python 3"
    },
    "language_info": {
      "name": "python"
    }
  },
  "cells": [
    {
      "cell_type": "markdown",
      "metadata": {
        "id": "view-in-github",
        "colab_type": "text"
      },
      "source": [
        "<a href=\"https://colab.research.google.com/github/Darshix9/Digit-Recognizer/blob/main/digit_streamlit.ipynb\" target=\"_parent\"><img src=\"https://colab.research.google.com/assets/colab-badge.svg\" alt=\"Open In Colab\"/></a>"
      ]
    },
    {
      "cell_type": "code",
      "metadata": {
        "id": "od3ORzHPdc7u"
      },
      "source": [
        "!pip install streamlit --quiet\n",
        "!pip install pyngrok==4.1.1 --quiet\n",
        "!pip install streamlit-drawable-canvas --quiet\n",
        "from pyngrok import ngrok"
      ],
      "execution_count": null,
      "outputs": []
    },
    {
      "cell_type": "code",
      "metadata": {
        "colab": {
          "base_uri": "https://localhost:8080/"
        },
        "id": "KlhPsjolf0SJ",
        "outputId": "5b785d20-3cec-435a-f547-b0ca7c620404"
      },
      "source": [
        "%%writefile app.py\n",
        "import streamlit as st\n",
        "from streamlit_drawable_canvas import st_canvas\n",
        "from tensorflow import keras\n",
        "model_new = keras.models.load_model('digits.hdf5')\n",
        "\n",
        "\n",
        "canvas_result = st_canvas(stroke_width=10,stroke_color=\"#ffffff\",background_color=\"#000000\",\n",
        "   height=250,width=250,drawing_mode='freedraw')\n",
        " \n",
        " if canvas_result.image_data is not None:\n",
        "  st.image(canvas_result.image_data)\n"
      ],
      "execution_count": null,
      "outputs": [
        {
          "output_type": "stream",
          "text": [
            "Overwriting app.py\n"
          ],
          "name": "stdout"
        }
      ]
    },
    {
      "cell_type": "code",
      "metadata": {
        "id": "KCxu-8QbkuMv"
      },
      "source": [
        "!nohup streamlit run app.py &\n",
        "url = ngrok.connect(port='8501')\n",
        "url "
      ],
      "execution_count": null,
      "outputs": []
    },
    {
      "cell_type": "code",
      "metadata": {
        "id": "8aOfSuPLl4yy"
      },
      "source": [],
      "execution_count": null,
      "outputs": []
    },
    {
      "cell_type": "markdown",
      "metadata": {
        "id": "XHCuRY4Al5Ut"
      },
      "source": [
        "http://c2925962f7ea.ngrok.io/"
      ]
    }
  ]
}